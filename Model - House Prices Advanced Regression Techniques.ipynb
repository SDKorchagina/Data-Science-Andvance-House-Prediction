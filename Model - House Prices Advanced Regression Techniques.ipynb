{
 "cells": [
  {
   "cell_type": "markdown",
   "metadata": {},
   "source": [
    "1 error = 27516.691115890753\n",
    "1 regressor = RandomForestRegressor(max_depth=10, n_estimators=500, n_jobs=-1)\n",
    "\n",
    "2 error = 28158.663416750092\n",
    "2 regressor = RandomForestRegressor(max_depth=90, n_jobs=-1)\n",
    "\n",
    "3 error = 27166.647511612628\n",
    "3 regressor = RandomForestRegressor( n_estimators=100, n_jobs=-1)\n",
    "\n",
    "4 error = 27403.476752809835\n",
    "4 regressor = RandomForestRegressor(max_depth=10, n_estimators=100, n_jobs=-1)\n",
    "\n",
    "5 error = 27330.843375384797\n",
    "5 regressor = RandomForestRegressor(max_depth=20, n_estimators=100, n_jobs=-1)"
   ]
  },
  {
   "cell_type": "code",
   "execution_count": 1,
   "metadata": {},
   "outputs": [],
   "source": [
    "import pandas as pd\n",
    "import numpy as np\n",
    "\n",
    "pd.pandas.set_option('display.max_columns', None)"
   ]
  },
  {
   "cell_type": "code",
   "execution_count": 2,
   "metadata": {},
   "outputs": [],
   "source": [
    "df = pd.read_csv('df_final.csv')"
   ]
  },
  {
   "cell_type": "code",
   "execution_count": 3,
   "metadata": {},
   "outputs": [],
   "source": [
    "# делим на Х и у\n",
    "X = df.iloc[:, :-1]\n",
    "y = df['y']"
   ]
  },
  {
   "cell_type": "code",
   "execution_count": 4,
   "metadata": {},
   "outputs": [],
   "source": [
    "df_test = pd.read_csv('df_test_final.csv')"
   ]
  },
  {
   "cell_type": "code",
   "execution_count": 12,
   "metadata": {},
   "outputs": [
    {
     "name": "stdout",
     "output_type": "stream",
     "text": [
      "MSSubClass\n",
      "LotFrontage\n",
      "LotArea\n",
      "OverallQual\n",
      "OverallCond\n",
      "YearBuilt\n",
      "YearRemodAdd\n",
      "MasVnrArea\n",
      "BsmtFinSF1\n",
      "BsmtUnfSF\n",
      "TotalBsmtSF\n",
      "GrLivArea\n",
      "BsmtFullBath\n",
      "BsmtHalfBath\n",
      "FullBath\n",
      "HalfBath\n",
      "BedroomAbvGr\n",
      "KitchenAbvGr\n",
      "Fireplaces\n",
      "GarageCars\n",
      "GarageArea\n",
      "WoodDeckSF\n",
      "OpenPorchSF\n",
      "LotFrontage_nan\n",
      "MSZoning_FV\n",
      "MSZoning_RL\n",
      "MSZoning_RM\n",
      "Alley_Grvl\n",
      "LotShape_IR1\n",
      "LotShape_Reg\n",
      "LandContour_Bnk\n",
      "LotConfig_CulDSac\n",
      "LotConfig_Inside\n",
      "Neighborhood_BrDale\n",
      "Neighborhood_BrkSide\n",
      "Neighborhood_CollgCr\n",
      "Neighborhood_Edwards\n",
      "Neighborhood_Gilbert\n",
      "Neighborhood_IDOTRR\n",
      "Neighborhood_MeadowV\n",
      "Neighborhood_NAmes\n",
      "Neighborhood_NWAmes\n",
      "Neighborhood_NoRidge\n",
      "Neighborhood_NridgHt\n",
      "Neighborhood_OldTown\n",
      "Neighborhood_Sawyer\n",
      "Neighborhood_SawyerW\n",
      "Neighborhood_Somerst\n",
      "BldgType_1Fam\n",
      "BldgType_Duplex\n",
      "HouseStyle_1.5Fin\n",
      "HouseStyle_2Story\n",
      "RoofStyle_Gable\n",
      "RoofStyle_Hip\n",
      "Exterior1st_CemntBd\n",
      "Exterior1st_MetalSd\n",
      "Exterior1st_VinylSd\n",
      "Exterior1st_Wd Sdng\n",
      "Exterior2nd_CmentBd\n",
      "Exterior2nd_MetalSd\n",
      "Exterior2nd_VinylSd\n",
      "Exterior2nd_Wd Sdng\n",
      "MasVnrType_BrkFace\n",
      "MasVnrType_None\n",
      "MasVnrType_Stone\n",
      "ExterQual_Ex\n",
      "ExterQual_Fa\n",
      "ExterQual_Gd\n",
      "ExterQual_TA\n",
      "ExterCond_Fa\n",
      "Foundation_BrkTil\n",
      "Foundation_CBlock\n",
      "Foundation_PConc\n",
      "Foundation_Slab\n",
      "BsmtQual_Ex\n",
      "BsmtQual_Fa\n",
      "BsmtQual_Gd\n",
      "BsmtQual_Missing\n",
      "BsmtQual_TA\n",
      "BsmtCond_Fa\n",
      "BsmtCond_Missing\n",
      "BsmtExposure_Av\n",
      "BsmtExposure_Gd\n",
      "BsmtExposure_Missing\n",
      "BsmtExposure_No\n",
      "BsmtFinType1_ALQ\n",
      "BsmtFinType1_GLQ\n",
      "BsmtFinType1_Missing\n",
      "BsmtFinType1_Rec\n",
      "BsmtFinType2_Missing\n",
      "HeatingQC_Ex\n",
      "HeatingQC_Fa\n",
      "HeatingQC_Gd\n",
      "HeatingQC_TA\n",
      "CentralAir_N\n",
      "CentralAir_Y\n",
      "KitchenQual_Ex\n",
      "KitchenQual_Fa\n",
      "KitchenQual_Gd\n",
      "KitchenQual_TA\n",
      "FireplaceQu_Ex\n",
      "FireplaceQu_Gd\n",
      "FireplaceQu_Missing\n",
      "FireplaceQu_TA\n",
      "GarageType_Attchd\n",
      "GarageType_BuiltIn\n",
      "GarageType_Detchd\n",
      "GarageType_Missing\n",
      "GarageFinish_Fin\n",
      "GarageFinish_Missing\n",
      "GarageFinish_RFn\n",
      "GarageFinish_Unf\n",
      "GarageQual_Missing\n",
      "GarageQual_TA\n",
      "GarageCond_Fa\n",
      "GarageCond_Missing\n",
      "GarageCond_TA\n",
      "Fence_Missing\n",
      "Fence_MnPrv\n"
     ]
    }
   ],
   "source": [
    "for i in list(df_test.columns):\n",
    "    print(i)"
   ]
  },
  {
   "cell_type": "code",
   "execution_count": null,
   "metadata": {},
   "outputs": [],
   "source": []
  },
  {
   "cell_type": "code",
   "execution_count": null,
   "metadata": {},
   "outputs": [],
   "source": []
  },
  {
   "cell_type": "code",
   "execution_count": 13,
   "metadata": {},
   "outputs": [],
   "source": [
    "from sklearn.model_selection import train_test_split\n",
    "from sklearn.model_selection import KFold\n",
    "from sklearn.model_selection import GridSearchCV\n",
    "\n",
    "from sklearn.ensemble import RandomForestRegressor\n",
    "from sklearn.metrics import mean_squared_error"
   ]
  },
  {
   "cell_type": "code",
   "execution_count": 14,
   "metadata": {},
   "outputs": [],
   "source": [
    "X_train, X_test, y_train, y_test = train_test_split(X, y, test_size = 0.3, random_state=7)"
   ]
  },
  {
   "cell_type": "code",
   "execution_count": 15,
   "metadata": {},
   "outputs": [],
   "source": [
    "# варианты параметром для модели\n",
    "#'n_estimators': [100, 500, 1000, 2000, 5000]\n",
    "#'max_depth': [10, 20, 30, 40, 50, 60, 70, 80, 90, 100, None]\n",
    "parameters_rf = {'max_depth': [10, 20, 30, 40, 50, 60, 70, 80, 90, 100, None],\n",
    "                'n_estimators': [100, 500, 1000, 2000, 5000]}"
   ]
  },
  {
   "cell_type": "code",
   "execution_count": 16,
   "metadata": {},
   "outputs": [],
   "source": [
    "regressor = RandomForestRegressor(n_jobs = -1)"
   ]
  },
  {
   "cell_type": "code",
   "execution_count": 17,
   "metadata": {},
   "outputs": [
    {
     "data": {
      "text/plain": [
       "GridSearchCV(cv=KFold(n_splits=5, random_state=None, shuffle=False),\n",
       "             estimator=RandomForestRegressor(n_jobs=-1),\n",
       "             param_grid={'max_depth': [10, 20, 30, 40, 50, 60, 70, 80, 90, 100,\n",
       "                                       None],\n",
       "                         'n_estimators': [100, 500, 1000, 2000, 5000]})"
      ]
     },
     "execution_count": 17,
     "metadata": {},
     "output_type": "execute_result"
    }
   ],
   "source": [
    "clf = GridSearchCV(regressor, parameters_rf, cv=KFold(n_splits=5), return_train_score=False)\n",
    "clf.fit(X_train, y_train)"
   ]
  },
  {
   "cell_type": "code",
   "execution_count": 18,
   "metadata": {},
   "outputs": [],
   "source": [
    "y_pred = clf.predict(X_test)"
   ]
  },
  {
   "cell_type": "code",
   "execution_count": null,
   "metadata": {},
   "outputs": [],
   "source": []
  },
  {
   "cell_type": "code",
   "execution_count": 19,
   "metadata": {},
   "outputs": [
    {
     "data": {
      "text/plain": [
       "0.14231502276468294"
      ]
     },
     "execution_count": 19,
     "metadata": {},
     "output_type": "execute_result"
    }
   ],
   "source": [
    "mean_squared_error(y_test, y_pred, squared = False)"
   ]
  },
  {
   "cell_type": "code",
   "execution_count": 20,
   "metadata": {},
   "outputs": [
    {
     "data": {
      "text/plain": [
       "RandomForestRegressor(n_estimators=500, n_jobs=-1)"
      ]
     },
     "execution_count": 20,
     "metadata": {},
     "output_type": "execute_result"
    }
   ],
   "source": [
    "clf.best_estimator_"
   ]
  },
  {
   "cell_type": "code",
   "execution_count": 21,
   "metadata": {},
   "outputs": [
    {
     "data": {
      "text/plain": [
       "0.8579965525938771"
      ]
     },
     "execution_count": 21,
     "metadata": {},
     "output_type": "execute_result"
    }
   ],
   "source": [
    "clf.best_score_"
   ]
  },
  {
   "cell_type": "code",
   "execution_count": 22,
   "metadata": {},
   "outputs": [
    {
     "data": {
      "text/plain": [
       "{'max_depth': None, 'n_estimators': 500}"
      ]
     },
     "execution_count": 22,
     "metadata": {},
     "output_type": "execute_result"
    }
   ],
   "source": [
    "clf.best_params_"
   ]
  },
  {
   "cell_type": "code",
   "execution_count": null,
   "metadata": {},
   "outputs": [],
   "source": []
  },
  {
   "cell_type": "code",
   "execution_count": null,
   "metadata": {},
   "outputs": [],
   "source": []
  }
 ],
 "metadata": {
  "kernelspec": {
   "display_name": "Python 3",
   "language": "python",
   "name": "python3"
  },
  "language_info": {
   "codemirror_mode": {
    "name": "ipython",
    "version": 3
   },
   "file_extension": ".py",
   "mimetype": "text/x-python",
   "name": "python",
   "nbconvert_exporter": "python",
   "pygments_lexer": "ipython3",
   "version": "3.8.10"
  }
 },
 "nbformat": 4,
 "nbformat_minor": 4
}
